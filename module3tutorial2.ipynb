{
 "cells": [
  {
   "cell_type": "code",
   "execution_count": null,
   "id": "3e70ecdf-5130-4c4a-81b6-ee4b7597b390",
   "metadata": {},
   "outputs": [
    {
     "name": "stdout",
     "output_type": "stream",
     "text": [
      "Element is present at index  3\n"
     ]
    }
   ],
   "source": [
    "#Austin Stroud\n",
    "#SDEV220 Module 3 Tutorial 2\n",
    "#module3tutorial2.ipynb\n",
    "#Description - Given a sorted array of size N and an integer K, \n",
    "#Description (continued) - find the position(0-based indexing) at which K is present in the array using binary search.\n",
    "#Returns index of x in arr if present, else -1\n",
    "def binarySearch(arr, l, r, x):\n",
    "\n",
    "    #Check base case\n",
    "    if r >= l:\n",
    "\n",
    "        mid = l + (r - l) // 2\n",
    "\n",
    "        #If element is present at the middle itself\n",
    "        if arr[mid] == x:\n",
    "            return mid\n",
    "\n",
    "        #If element is smaller than mid, then it can only be present in left subarray\n",
    "        elif arr[mid] > x:\n",
    "            return binarySearch(arr, l, mid-1, x)\n",
    "\n",
    "        #Else the element can only be present in right subarray\n",
    "        else:\n",
    "            return binarySearch(arr, mid + 1, r, x)\n",
    "\n",
    "    else:\n",
    "        #Element is not present in the array\n",
    "        return -1\n",
    "\n",
    "\n",
    "# Driver Code\n",
    "arr = [2, 3, 4, 10, 40]\n",
    "x = 10\n",
    "\n",
    "# Function call\n",
    "result = binarySearch(arr, 0, len(arr)-1, x)\n",
    "\n",
    "if result != -1:\n",
    "    print(\"Element is present at index % d\" % result)\n",
    "else:\n",
    "    print(\"Element is not present in array\")\n",
    "#{ \n",
    " # Driver Code Starts\n",
    "#Initial template for Python\n",
    "\n",
    "if __name__ == '__main__':\n",
    "    t=int(input())\n",
    "    for i in range(t):\n",
    "        n=int(input())\n",
    "        arr=list(map(int, input().strip().split(' ')))\n",
    "        k=int(input())\n",
    "        ob = Solution()\n",
    "        print (ob.binarysearch(arr, n, k))\n",
    "\n",
    "\n",
    "# } Driver Code Ends"
   ]
  }
 ],
 "metadata": {
  "kernelspec": {
   "display_name": "Python 3 (ipykernel)",
   "language": "python",
   "name": "python3"
  },
  "language_info": {
   "codemirror_mode": {
    "name": "ipython",
    "version": 3
   },
   "file_extension": ".py",
   "mimetype": "text/x-python",
   "name": "python",
   "nbconvert_exporter": "python",
   "pygments_lexer": "ipython3",
   "version": "3.11.7"
  }
 },
 "nbformat": 4,
 "nbformat_minor": 5
}
